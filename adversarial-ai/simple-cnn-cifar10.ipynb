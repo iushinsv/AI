{
 "cells": [
  {
   "cell_type": "markdown",
   "id": "558236f7-76ed-4669-a5e7-f0a14ffdd3de",
   "metadata": {},
   "source": [
    "# Setup and Data Collection"
   ]
  },
  {
   "cell_type": "code",
   "execution_count": 15,
   "id": "2b667f72-aac4-4d3f-8141-e5403d3e95da",
   "metadata": {},
   "outputs": [],
   "source": [
    "#load dependencies and initialisations\n",
    "from tensorflow import keras\n",
    "from tensorflow.keras.datasets import cifar10\n",
    "import matplotlib.pyplot as plt\n",
    "import warnings\n",
    "import numpy as np\n",
    "import tensorflow as tf \n",
    "from sklearn.model_selection import train_test_split\n",
    "warnings.filterwarnings('ignore')\n",
    "gpus = tf.config.list_physical_devices('GPU')\n",
    "# prevent memory error messages in GPU environments by setting memory growth equal to all GPUs \n",
    "if gpus:\n",
    "  try:\n",
    "    # Currently, memory growth needs to be the same across GPUs\n",
    "    for gpu in gpus:\n",
    "      tf.config.experimental.set_memory_growth(gpu, True)\n",
    "    logical_gpus = tf.config.list_logical_devices('GPU')\n",
    "    print(len(gpus), \"Physical GPUs,\", len(logical_gpus), \"Logical GPUs\")\n",
    "  except RuntimeError as e:\n",
    "    # Memory growth must be set before GPUs have been initialized\n",
    "    print(e)\n",
    "model_filename = 'simple-cifar10.h5'"
   ]
  },
  {
   "cell_type": "code",
   "execution_count": null,
   "id": "1ec1a097-8979-485e-ada0-f7a4e14701eb",
   "metadata": {},
   "outputs": [],
   "source": [
    "# load cifar10 dataset\n",
    "keras.backend.set_image_data_format('channels_last')\n"
   ]
  }
 ],
 "metadata": {
  "kernelspec": {
   "display_name": "Secure AI",
   "language": "python",
   "name": "secure-ai"
  },
  "language_info": {
   "codemirror_mode": {
    "name": "ipython",
    "version": 3
   },
   "file_extension": ".py",
   "mimetype": "text/x-python",
   "name": "python",
   "nbconvert_exporter": "python",
   "pygments_lexer": "ipython3",
   "version": "3.10.12"
  }
 },
 "nbformat": 4,
 "nbformat_minor": 5
}
